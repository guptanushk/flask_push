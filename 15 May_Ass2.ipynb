{
 "cells": [
  {
   "cell_type": "markdown",
   "id": "9c728f01",
   "metadata": {},
   "source": [
    "# Q1. How do you comment code in Python? What are the different types of comments?"
   ]
  },
  {
   "cell_type": "markdown",
   "id": "f33804e4",
   "metadata": {},
   "source": [
    "Ans. We use '#' to comment the code into the python. There are 2 type of comment:\n",
    "    \n",
    "    1. Single line comment in which we use '#' To comment the code\n",
    "    \n",
    "    2. Muti line comment in which we use triple single quote ''' and triple double quote \"\"\" To comment the code"
   ]
  },
  {
   "cell_type": "code",
   "execution_count": 1,
   "id": "4c5c7f2a",
   "metadata": {},
   "outputs": [
    {
     "data": {
      "text/plain": [
       "'Multi line comment\\nWe can use it as a string too.'"
      ]
     },
     "execution_count": 1,
     "metadata": {},
     "output_type": "execute_result"
    }
   ],
   "source": [
    "#Single line comment\n",
    "\n",
    "'''Multi line comment\n",
    "We can use it as a string too.'''"
   ]
  },
  {
   "cell_type": "markdown",
   "id": "ab671949",
   "metadata": {},
   "source": [
    "# Q2. What are variables in Python? How do you declare and assign values to variables?"
   ]
  },
  {
   "cell_type": "markdown",
   "id": "f35494f3",
   "metadata": {},
   "source": [
    "Ans. Variable is used as a container which store values or data for us. After declaring the variable we can use it anywhere in the programme with the help of its name and manuplate it.\n",
    "\n",
    "We can follow these step to declare the variable:\n",
    "    \n",
    "    1. We decide name of the vriable It start with the aplhabet's and _underscore only. ex a, A, _a, _A\n",
    "    It's also a case sensitive python treated lowercase 'a' and uppercase 'A' as a diffrent variable names.\n",
    "    \n",
    "    2. We assign the values (string, int, boolean, float etc) to the variable with the help of assign operator '='. \n",
    "    ex a = 'Hello', A = 20, _a=True, _A = 2.0"
   ]
  },
  {
   "cell_type": "markdown",
   "id": "7875179c",
   "metadata": {},
   "source": [
    "# Q3. How do you convert one data type to another in Python?"
   ]
  },
  {
   "cell_type": "markdown",
   "id": "12f5ce39",
   "metadata": {},
   "source": [
    "We use typecasting method to convert one type to another. Here is the few example below:"
   ]
  },
  {
   "cell_type": "code",
   "execution_count": 4,
   "id": "a99fb6b4",
   "metadata": {},
   "outputs": [
    {
     "name": "stdout",
     "output_type": "stream",
     "text": [
      "convert \"23\" type <class 'str'> to 23 type <class 'int'>\n"
     ]
    }
   ],
   "source": [
    "#String to int (only if it contain a valid integer representation)\n",
    "a = \"23\"\n",
    "b = int(a)\n",
    "\n",
    "print(f'convert \"{a}\" type {type(a)} to {b} type {type(b)}')"
   ]
  },
  {
   "cell_type": "code",
   "execution_count": 5,
   "id": "68c7e245",
   "metadata": {},
   "outputs": [
    {
     "name": "stdout",
     "output_type": "stream",
     "text": [
      "convert \"23\" type <class 'str'> to 23 type <class 'int'>\n"
     ]
    }
   ],
   "source": [
    "#String to float (only if it contain a valid float representation)\n",
    "a = \"23.56\"\n",
    "b = float(a)\n",
    "\n",
    "print(f'convert \"{a}\" type {type(a)} to {b} type {type(b)}')"
   ]
  },
  {
   "cell_type": "code",
   "execution_count": 7,
   "id": "751fb1a2",
   "metadata": {},
   "outputs": [
    {
     "name": "stdout",
     "output_type": "stream",
     "text": [
      "convert 23 type <class 'int'> to \"23\" type <class 'str'>\n"
     ]
    }
   ],
   "source": [
    "#int to string\n",
    "a = 23\n",
    "b = str(a)\n",
    "\n",
    "print(f'convert {a} type {type(a)} to \"{b}\" type {type(b)}')"
   ]
  },
  {
   "cell_type": "code",
   "execution_count": 9,
   "id": "4eba76c6",
   "metadata": {},
   "outputs": [
    {
     "name": "stdout",
     "output_type": "stream",
     "text": [
      "convert [1, 2, 3] type <class 'list'> to (1, 2, 3) type <class 'tuple'>\n"
     ]
    }
   ],
   "source": [
    "#list to tuple\n",
    "l = [1,2,3]\n",
    "t = tuple(l)\n",
    "\n",
    "print(f'convert {l} type {type(l)} to {t} type {type(t)}')"
   ]
  },
  {
   "cell_type": "markdown",
   "id": "3b142f8c",
   "metadata": {},
   "source": [
    "# Q4. How do you write and execute a Python script from the command line?"
   ]
  },
  {
   "cell_type": "markdown",
   "id": "caa691a9",
   "metadata": {},
   "source": [
    "Ans. We can follow this steps to execute the Python script:\n",
    "\n",
    "    1. Open the texteditor for example: Visual studio code\n",
    "    \n",
    "    2. Write a code into it for example: print(\"Hello PW skills\")\n",
    "    \n",
    "    3. Save the file with .py extenstion into your local pc for example: hello.py\n",
    "    \n",
    "    4. Open a 'terminal' into the mac or in window open a 'command promt'\n",
    "    \n",
    "    5. Nevigate the file it with the help of cd command for example you save it on you desktop: cd desktop\n",
    "    \n",
    "    6. Once you nevigate it Execute it with the help of python3 command for example: python3 hello.py"
   ]
  },
  {
   "cell_type": "markdown",
   "id": "a8cdeb4e",
   "metadata": {},
   "source": [
    "# Q5. Given a list my_list = [1, 2, 3, 4, 5], write the code to slice the list and obtain the sub-list [2, 3]."
   ]
  },
  {
   "cell_type": "code",
   "execution_count": 11,
   "id": "5732353a",
   "metadata": {},
   "outputs": [
    {
     "data": {
      "text/plain": [
       "[2, 3]"
      ]
     },
     "execution_count": 11,
     "metadata": {},
     "output_type": "execute_result"
    }
   ],
   "source": [
    "my_list = [1,2,3,4,5]\n",
    "\n",
    "sub_list = my_list[1:3]\n",
    "\n",
    "sub_list"
   ]
  },
  {
   "cell_type": "markdown",
   "id": "1cf6bcf9",
   "metadata": {},
   "source": [
    "# Q6. What is a complex number in mathematics, and how is it represented in Python?"
   ]
  },
  {
   "cell_type": "markdown",
   "id": "227279ec",
   "metadata": {},
   "source": [
    "Ans. Complex number is the number that can express it like a + bi, where a&b is real number and i is the imaginary unit. a is the real part of the complex number and b is the imaginary part of the complex number. \n",
    "\n",
    "In Python we can write j insted of i to represent the imaginary unit of the complex number. So, in Python we can write it like this a+bj. For example:"
   ]
  },
  {
   "cell_type": "code",
   "execution_count": 12,
   "id": "2a1ceea9",
   "metadata": {},
   "outputs": [
    {
     "name": "stdout",
     "output_type": "stream",
     "text": [
      "Real part of the complex number is 7.0 & Imaginary part of the complex number is 2.0\n"
     ]
    }
   ],
   "source": [
    "#Complex number\n",
    "num = 7+2j\n",
    "\n",
    "print(f'Real part of the complex number is {num.real} & Imaginary part of the complex number is {num.imag}')"
   ]
  },
  {
   "cell_type": "markdown",
   "id": "9b31e0e8",
   "metadata": {},
   "source": [
    "# Q7. What is the correct way to declare a variable named age and assign the value 25 to it?"
   ]
  },
  {
   "cell_type": "code",
   "execution_count": 13,
   "id": "99b6e52b",
   "metadata": {},
   "outputs": [
    {
     "name": "stdout",
     "output_type": "stream",
     "text": [
      "Enter you age: 25\n",
      "Your age is 25\n"
     ]
    }
   ],
   "source": [
    "age = int(input(\"Enter you age: \"))\n",
    "\n",
    "try:\n",
    "    print(f\"Your age is {age}\")\n",
    "    \n",
    "except:\n",
    "    print(f\"Error! Please enter a numeric value for a age\")"
   ]
  },
  {
   "cell_type": "markdown",
   "id": "59356f50",
   "metadata": {},
   "source": [
    "# Q8. Declare a variable named price and assign the value 9.99 to it. What data type does this variable belong to?"
   ]
  },
  {
   "cell_type": "code",
   "execution_count": 15,
   "id": "ca03f16d",
   "metadata": {},
   "outputs": [
    {
     "name": "stdout",
     "output_type": "stream",
     "text": [
      "Enter you price: 9.99\n",
      "Your price value is 9.99\n",
      "Data type of a price is <class 'float'>\n"
     ]
    }
   ],
   "source": [
    "price = float(input(\"Enter you price: \"))\n",
    "\n",
    "try:\n",
    "    print(f\"Your price value is {price}\")\n",
    "    print(f\"Data type of a price is {type(price)}\")\n",
    "    \n",
    "except:\n",
    "    print(f\"Error! Please enter a numeric value for a price\")"
   ]
  },
  {
   "cell_type": "markdown",
   "id": "b6519b24",
   "metadata": {},
   "source": [
    "# Q9. Create a variable named name and assign your full name to it as a string. How would you print the value of this variable?"
   ]
  },
  {
   "cell_type": "code",
   "execution_count": 16,
   "id": "f39290ed",
   "metadata": {},
   "outputs": [
    {
     "name": "stdout",
     "output_type": "stream",
     "text": [
      "Enter you name: Rameez khan\n",
      "Hello Rameez khan!\n"
     ]
    }
   ],
   "source": [
    "name = input(\"Enter you name: \")\n",
    "\n",
    "print(f\"Hello {name}!\")"
   ]
  },
  {
   "cell_type": "markdown",
   "id": "4de601c4",
   "metadata": {},
   "source": [
    "# Q10. Given the string \"Hello, World!\", extract the substring \"World\"."
   ]
  },
  {
   "cell_type": "code",
   "execution_count": 17,
   "id": "b9295327",
   "metadata": {},
   "outputs": [
    {
     "data": {
      "text/plain": [
       "'World'"
      ]
     },
     "execution_count": 17,
     "metadata": {},
     "output_type": "execute_result"
    }
   ],
   "source": [
    "string = \"Hello, World!\"\n",
    "\n",
    "sub_string = string[7:12]\n",
    "\n",
    "sub_string"
   ]
  },
  {
   "cell_type": "markdown",
   "id": "7e87b730",
   "metadata": {},
   "source": [
    "# Q11. Create a variable named \"is_student\" and assign it a boolean value indicating whether you are currently a student or not."
   ]
  },
  {
   "cell_type": "code",
   "execution_count": 18,
   "id": "52f1e9ef",
   "metadata": {},
   "outputs": [],
   "source": [
    "is_student = True"
   ]
  }
 ],
 "metadata": {
  "kernelspec": {
   "display_name": "Python 3 (ipykernel)",
   "language": "python",
   "name": "python3"
  },
  "language_info": {
   "codemirror_mode": {
    "name": "ipython",
    "version": 3
   },
   "file_extension": ".py",
   "mimetype": "text/x-python",
   "name": "python",
   "nbconvert_exporter": "python",
   "pygments_lexer": "ipython3",
   "version": "3.11.2"
  }
 },
 "nbformat": 4,
 "nbformat_minor": 5
}
