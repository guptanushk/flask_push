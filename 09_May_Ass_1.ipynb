{
 "cells": [
  {
   "cell_type": "markdown",
   "id": "d0836381",
   "metadata": {},
   "source": [
    "# Q1. Create one variable containing following type of data:\n",
    "    (i) string\n",
    "    (ii) list\n",
    "    (iii) float\n",
    "    (iv) tuple"
   ]
  },
  {
   "cell_type": "code",
   "execution_count": 1,
   "id": "58eb0f0e",
   "metadata": {},
   "outputs": [],
   "source": [
    "var_string = \"Hello\"\n",
    "\n",
    "var_list = ['string', 3, 20.0, 3+4j, [1,2,3]]\n",
    "\n",
    "var_float = 2.0\n",
    "\n",
    "var_tuple = ('string', 3, 20.0, 3+4j, [1,2,3])"
   ]
  },
  {
   "cell_type": "markdown",
   "id": "078339f7",
   "metadata": {},
   "source": [
    "# Q2. Given are some following variables containing data:\n",
    "    (i) var1 = ''\n",
    "    (ii) var2 = '[ DS , ML , Python]'\n",
    "    (iii) var3 = [ ‘DS’ , ’ML’ , ‘Python’ ]\n",
    "    (iv) var4 = 1.\n",
    "\n",
    "What will be the data type of the above given variable."
   ]
  },
  {
   "cell_type": "code",
   "execution_count": 2,
   "id": "ad29cc4a",
   "metadata": {},
   "outputs": [
    {
     "data": {
      "text/plain": [
       "str"
      ]
     },
     "execution_count": 2,
     "metadata": {},
     "output_type": "execute_result"
    }
   ],
   "source": [
    "#(i)\n",
    "var1 = ''\n",
    "type(var1)"
   ]
  },
  {
   "cell_type": "code",
   "execution_count": 3,
   "id": "d2c50de7",
   "metadata": {},
   "outputs": [
    {
     "data": {
      "text/plain": [
       "str"
      ]
     },
     "execution_count": 3,
     "metadata": {},
     "output_type": "execute_result"
    }
   ],
   "source": [
    "#(ii)\n",
    "var2 = '[ DS , ML , Python]'\n",
    "type(var2)"
   ]
  },
  {
   "cell_type": "code",
   "execution_count": 4,
   "id": "fe67358d",
   "metadata": {},
   "outputs": [
    {
     "data": {
      "text/plain": [
       "list"
      ]
     },
     "execution_count": 4,
     "metadata": {},
     "output_type": "execute_result"
    }
   ],
   "source": [
    "#(iii)\n",
    "var3 = [ 'DS' , 'ML', 'Python' ]\n",
    "type(var3)"
   ]
  },
  {
   "cell_type": "code",
   "execution_count": 5,
   "id": "d29dd7fe",
   "metadata": {},
   "outputs": [
    {
     "data": {
      "text/plain": [
       "float"
      ]
     },
     "execution_count": 5,
     "metadata": {},
     "output_type": "execute_result"
    }
   ],
   "source": [
    "#(iv)\n",
    "var4 = 1.\n",
    "type(var4)"
   ]
  },
  {
   "cell_type": "markdown",
   "id": "80a5c27e",
   "metadata": {},
   "source": [
    "# Q3. Explain the use of the following operators using an example:\n",
    "    (i) /\n",
    "    (ii) %\n",
    "    (iii) //\n",
    "    (iv) **"
   ]
  },
  {
   "cell_type": "code",
   "execution_count": 7,
   "id": "23f97c4a",
   "metadata": {},
   "outputs": [
    {
     "data": {
      "text/plain": [
       "3.3333333333333335"
      ]
     },
     "execution_count": 7,
     "metadata": {},
     "output_type": "execute_result"
    }
   ],
   "source": [
    "#(i) / : It gives you the divisible value of the 2 numbers.\n",
    "div = 10/3\n",
    "div"
   ]
  },
  {
   "cell_type": "code",
   "execution_count": 9,
   "id": "55ac951d",
   "metadata": {},
   "outputs": [
    {
     "data": {
      "text/plain": [
       "1"
      ]
     },
     "execution_count": 9,
     "metadata": {},
     "output_type": "execute_result"
    }
   ],
   "source": [
    "#(ii) % : It gives you the reminder value of the 2 numbers.\n",
    "rem = 10%3\n",
    "rem"
   ]
  },
  {
   "cell_type": "code",
   "execution_count": 10,
   "id": "49a49e92",
   "metadata": {},
   "outputs": [
    {
     "name": "stdout",
     "output_type": "stream",
     "text": [
      "3 3\n"
     ]
    }
   ],
   "source": [
    "#(i) // : It gives you the flour value of the 2 numbers. It like the integer part of the divisble value\n",
    "flour = 10//3\n",
    "\n",
    "#Alternative\n",
    "div_flour = int(10/3)\n",
    "\n",
    "print(flour, div_flour)"
   ]
  },
  {
   "cell_type": "code",
   "execution_count": 11,
   "id": "8c6e6bbd",
   "metadata": {},
   "outputs": [
    {
     "data": {
      "text/plain": [
       "8"
      ]
     },
     "execution_count": 11,
     "metadata": {},
     "output_type": "execute_result"
    }
   ],
   "source": [
    "#(iv) ** : It use for power value. Second place number denotes the power of First place number\n",
    "\n",
    "pow = 2 ** 3\n",
    "pow"
   ]
  },
  {
   "cell_type": "markdown",
   "id": "46741783",
   "metadata": {},
   "source": [
    "# Q4. Create a list of length 10 of your choice containing multiple types of data. Using for loop print the element and its data type."
   ]
  },
  {
   "cell_type": "code",
   "execution_count": 17,
   "id": "4a36ff06",
   "metadata": {},
   "outputs": [
    {
     "name": "stdout",
     "output_type": "stream",
     "text": [
      "Element \"string\" type is <class 'str'>\n",
      "Element \"3\" type is <class 'int'>\n",
      "Element \"20.0\" type is <class 'float'>\n",
      "Element \"(3+4j)\" type is <class 'complex'>\n",
      "Element \"[1, 2, 3]\" type is <class 'list'>\n",
      "Element \"True\" type is <class 'bool'>\n",
      "Element \"20\" type is <class 'int'>\n",
      "Element \"3.33334\" type is <class 'float'>\n",
      "Element \"4\" type is <class 'int'>\n",
      "Element \"0b1010\" type is <class 'str'>\n"
     ]
    }
   ],
   "source": [
    "lst = ['string', 3, 20.0, 3+4j, [1,2,3], True, 20, 3.33334, 0b100, bin(10)]\n",
    "\n",
    "for i in lst:\n",
    "    print (f'Element \"{i}\" type is {type(i)}')"
   ]
  },
  {
   "cell_type": "markdown",
   "id": "0e297c97",
   "metadata": {},
   "source": [
    "# Q5. Using a while loop, verify if the number A is purely divisible by number B and if so then how many times it can be divisible."
   ]
  },
  {
   "cell_type": "code",
   "execution_count": 24,
   "id": "e40946bd",
   "metadata": {},
   "outputs": [
    {
     "name": "stdout",
     "output_type": "stream",
     "text": [
      "Enter number A: 32020\n",
      "Enter number B: 2\n",
      "32020 is purely divisible by 2 in 2 number of times\n"
     ]
    }
   ],
   "source": [
    "A = int(input(\"Enter number A: \"))\n",
    "temp_A = A\n",
    "\n",
    "B = int(input(\"Enter number B: \"))\n",
    "\n",
    "count= 0\n",
    "while temp_A%B==0:\n",
    "    count+=1\n",
    "    temp_A = temp_A/B\n",
    "    \n",
    "if count > 0:\n",
    "    print(f'{A} is purely divisible by {B} in {count} number of times')\n",
    "else:\n",
    "    print(f'{A} is not divisible by {B}')"
   ]
  },
  {
   "cell_type": "markdown",
   "id": "e3317b42",
   "metadata": {},
   "source": [
    "# Q6. Create a list containing 25 int type data. Using for loop and if-else condition print if the element is divisible by 3 or not."
   ]
  },
  {
   "cell_type": "code",
   "execution_count": 25,
   "id": "42108e39",
   "metadata": {},
   "outputs": [
    {
     "name": "stdout",
     "output_type": "stream",
     "text": [
      "0 is divisible by 3\n",
      "1 is not divisible by 3\n",
      "2 is not divisible by 3\n",
      "3 is divisible by 3\n",
      "4 is not divisible by 3\n",
      "5 is not divisible by 3\n",
      "6 is divisible by 3\n",
      "7 is not divisible by 3\n",
      "8 is not divisible by 3\n",
      "9 is divisible by 3\n",
      "10 is not divisible by 3\n",
      "11 is not divisible by 3\n",
      "12 is divisible by 3\n",
      "13 is not divisible by 3\n",
      "14 is not divisible by 3\n",
      "15 is divisible by 3\n",
      "16 is not divisible by 3\n",
      "17 is not divisible by 3\n",
      "18 is divisible by 3\n",
      "19 is not divisible by 3\n",
      "20 is not divisible by 3\n",
      "21 is divisible by 3\n",
      "22 is not divisible by 3\n",
      "23 is not divisible by 3\n",
      "24 is divisible by 3\n"
     ]
    }
   ],
   "source": [
    "lst = range(25)\n",
    "\n",
    "for i in lst:\n",
    "    if i%3 == 0:\n",
    "        print(f'{i} is divisible by 3')\n",
    "    else:\n",
    "        print(f'{i} is not divisible by 3')"
   ]
  },
  {
   "cell_type": "markdown",
   "id": "f4acb977",
   "metadata": {},
   "source": [
    "# Q7. What do you understand about mutable and immutable data types? Give examples for both showing this property."
   ]
  },
  {
   "cell_type": "raw",
   "id": "a13a76c0",
   "metadata": {},
   "source": [
    "Ans: Mutable data type like a list in which we remove, update, append or replace the index element on the bases of its index value."
   ]
  },
  {
   "cell_type": "code",
   "execution_count": 26,
   "id": "58a5f99b",
   "metadata": {},
   "outputs": [
    {
     "data": {
      "text/plain": [
       "['hello', 20.0, (3+4j), [1, 2, 3], 'Append']"
      ]
     },
     "execution_count": 26,
     "metadata": {},
     "output_type": "execute_result"
    }
   ],
   "source": [
    "lst = ['string', 3, 20.0, 3+4j, [1,2,3]]\n",
    "\n",
    "lst[0] = 'hello'\n",
    "lst.append(\"Append\")\n",
    "lst.remove(3)\n",
    "\n",
    "lst"
   ]
  },
  {
   "cell_type": "raw",
   "id": "1daedd5c",
   "metadata": {},
   "source": [
    "But in Immutable data type like string in which we can not remove, update, append or replace the index element on the bases of its index value."
   ]
  },
  {
   "cell_type": "code",
   "execution_count": 28,
   "id": "7e21c736",
   "metadata": {},
   "outputs": [
    {
     "ename": "TypeError",
     "evalue": "'str' object does not support item assignment",
     "output_type": "error",
     "traceback": [
      "\u001b[0;31m---------------------------------------------------------------------------\u001b[0m",
      "\u001b[0;31mTypeError\u001b[0m                                 Traceback (most recent call last)",
      "Cell \u001b[0;32mIn[28], line 3\u001b[0m\n\u001b[1;32m      1\u001b[0m string \u001b[38;5;241m=\u001b[39m \u001b[38;5;124m\"\u001b[39m\u001b[38;5;124mHello\u001b[39m\u001b[38;5;124m\"\u001b[39m\n\u001b[0;32m----> 3\u001b[0m \u001b[43mstring\u001b[49m\u001b[43m[\u001b[49m\u001b[38;5;241;43m0\u001b[39;49m\u001b[43m]\u001b[49m \u001b[38;5;241m=\u001b[39m \u001b[38;5;124m'\u001b[39m\u001b[38;5;124mY\u001b[39m\u001b[38;5;124m'\u001b[39m\n\u001b[1;32m      5\u001b[0m string\n",
      "\u001b[0;31mTypeError\u001b[0m: 'str' object does not support item assignment"
     ]
    }
   ],
   "source": [
    "string = \"Hello\"\n",
    "\n",
    "string[0] = 'Y'\n",
    "\n",
    "string"
   ]
  },
  {
   "cell_type": "code",
   "execution_count": null,
   "id": "60f11c68",
   "metadata": {},
   "outputs": [],
   "source": []
  }
 ],
 "metadata": {
  "kernelspec": {
   "display_name": "Python 3 (ipykernel)",
   "language": "python",
   "name": "python3"
  },
  "language_info": {
   "codemirror_mode": {
    "name": "ipython",
    "version": 3
   },
   "file_extension": ".py",
   "mimetype": "text/x-python",
   "name": "python",
   "nbconvert_exporter": "python",
   "pygments_lexer": "ipython3",
   "version": "3.11.2"
  }
 },
 "nbformat": 4,
 "nbformat_minor": 5
}
